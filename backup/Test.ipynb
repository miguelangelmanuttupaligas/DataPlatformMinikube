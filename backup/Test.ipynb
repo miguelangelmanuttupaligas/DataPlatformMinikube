{
 "cells": [
  {
   "cell_type": "code",
   "execution_count": 1,
   "id": "f7a6899d-74c9-499f-99c4-f16fc73b887b",
   "metadata": {},
   "outputs": [],
   "source": [
    "%load_ext sparksql_magic"
   ]
  },
  {
   "cell_type": "code",
   "execution_count": 2,
   "id": "5607d332-c8b4-4223-939e-172ef45d96a0",
   "metadata": {},
   "outputs": [],
   "source": [
    "import os\n",
    "from pyspark.sql import SparkSession\n",
    "from delta import configure_spark_with_delta_pip"
   ]
  },
  {
   "cell_type": "code",
   "execution_count": 3,
   "id": "e45ffd30-5ba8-47cb-a340-0716b18220df",
   "metadata": {},
   "outputs": [],
   "source": [
    "spark = (\n",
    "    SparkSession.builder\n",
    "    .appName(\"TestDataPlatform\")\n",
    "    .master(\"local[*]\")\n",
    "    .config(\"spark.hadoop.fs.s3a.impl\", \"org.apache.hadoop.fs.s3a.S3AFileSystem\")\n",
    "    .config(\"spark.hadoop.fs.s3a.path.style.access\", os.getenv(\"SPARK_S3_PATH_STYLE_ACCESS\",default=\"true\"))\n",
    "    .config(\"spark.hadoop.fs.s3a.endpoint\", os.getenv(\"SPARK_S3_ENDPOINT\",default=\"http://minio.data-services.svc.cluster.local:9000\"))\n",
    "    .config(\"spark.hadoop.fs.s3a.access.key\", os.getenv(\"SPARK_S3_ACCESS_KEY\",default=\"minioadmin\"))\n",
    "    .config(\"spark.hadoop.fs.s3a.secret.key\", os.getenv(\"SPARK_S3_SECRET_KEY\",default=\"minioadmin\"))\n",
    "    .config(\"spark.sql.extensions\", \"io.delta.sql.DeltaSparkSessionExtension\")\n",
    "    .config(\"spark.sql.catalog.spark_catalog\", \"org.apache.spark.sql.delta.catalog.DeltaCatalog\")\n",
    "    .config(\"spark.sql.catalogImplementation\", \"hive\")\n",
    "    .config(\"spark.sql.warehouse.dir\", os.getenv(\"SPARK_HIVE_WAREHOUSE_DIR\",default=\"s3a://warehouse/\"))\n",
    "    .config(\"hive.metastore.uris\", os.getenv(\"SPARK_HIVE_METASTORE_URIS\",default=\"thrift://hive-metastore.data-services.svc.cluster.local:9083\"))\n",
    "    .enableHiveSupport()\n",
    ")\n",
    "spark = configure_spark_with_delta_pip(spark).getOrCreate()"
   ]
  },
  {
   "cell_type": "code",
   "execution_count": 4,
   "id": "7d1c8794-0c7e-4d31-808f-6d1135ea412b",
   "metadata": {},
   "outputs": [
    {
     "data": {
      "text/html": [
       "\n",
       "            <div>\n",
       "                <p><b>SparkSession - hive</b></p>\n",
       "                \n",
       "        <div>\n",
       "            <p><b>SparkContext</b></p>\n",
       "\n",
       "            <p><a href=\"http://jupyter-manuttupa-ligas-gmail-com---d04849dc:4040\">Spark UI</a></p>\n",
       "\n",
       "            <dl>\n",
       "              <dt>Version</dt>\n",
       "                <dd><code>v3.5.0</code></dd>\n",
       "              <dt>Master</dt>\n",
       "                <dd><code>local[*]</code></dd>\n",
       "              <dt>AppName</dt>\n",
       "                <dd><code>TestDataPlatform</code></dd>\n",
       "            </dl>\n",
       "        </div>\n",
       "        \n",
       "            </div>\n",
       "        "
      ],
      "text/plain": [
       "<pyspark.sql.session.SparkSession at 0x7ff305707d90>"
      ]
     },
     "execution_count": 4,
     "metadata": {},
     "output_type": "execute_result"
    }
   ],
   "source": [
    "spark"
   ]
  },
  {
   "cell_type": "code",
   "execution_count": 5,
   "id": "52e196c8-924e-44dd-9ac7-cf207a37307d",
   "metadata": {},
   "outputs": [
    {
     "data": {
      "text/html": [
       "<table><tr style=\"border-bottom: 1px solid\"><td style=\"font-weight: bold\">namespace</td></tr><tr><td>default</td></tr></table>"
      ],
      "text/plain": [
       "<IPython.core.display.HTML object>"
      ]
     },
     "execution_count": 5,
     "metadata": {},
     "output_type": "execute_result"
    }
   ],
   "source": [
    "%%sparksql\n",
    "SHOW DATABASES;"
   ]
  },
  {
   "cell_type": "code",
   "execution_count": 6,
   "id": "2fc2dae9-349f-4f6b-abaa-7dd5737f1983",
   "metadata": {},
   "outputs": [
    {
     "data": {
      "text/html": [
       "<table><tr style=\"border-bottom: 1px solid\"></tr></table>"
      ],
      "text/plain": [
       "<IPython.core.display.HTML object>"
      ]
     },
     "execution_count": 6,
     "metadata": {},
     "output_type": "execute_result"
    }
   ],
   "source": [
    "%%sparksql\n",
    "DROP DATABASE IF EXISTS landing;"
   ]
  },
  {
   "cell_type": "code",
   "execution_count": 7,
   "id": "7f405bf4-2577-4c42-a5be-d248f94316a5",
   "metadata": {},
   "outputs": [
    {
     "data": {
      "text/html": [
       "<table><tr style=\"border-bottom: 1px solid\"></tr></table>"
      ],
      "text/plain": [
       "<IPython.core.display.HTML object>"
      ]
     },
     "execution_count": 7,
     "metadata": {},
     "output_type": "execute_result"
    }
   ],
   "source": [
    "%%sparksql\n",
    "CREATE DATABASE IF NOT EXISTS bronze\n",
    "LOCATION 's3a://warehouse/bronze/';"
   ]
  },
  {
   "cell_type": "code",
   "execution_count": 8,
   "id": "64fd0a2a-20f0-4079-a358-4d8bfb2f741c",
   "metadata": {},
   "outputs": [
    {
     "data": {
      "text/html": [
       "<table><tr style=\"border-bottom: 1px solid\"></tr></table>"
      ],
      "text/plain": [
       "<IPython.core.display.HTML object>"
      ]
     },
     "execution_count": 8,
     "metadata": {},
     "output_type": "execute_result"
    }
   ],
   "source": [
    "%%sparksql\n",
    "CREATE DATABASE IF NOT EXISTS silver\n",
    "LOCATION 's3a://warehouse/silver/';"
   ]
  },
  {
   "cell_type": "code",
   "execution_count": 9,
   "id": "a131c687-03be-4f8a-83bc-2ab207e9bd1f",
   "metadata": {},
   "outputs": [
    {
     "data": {
      "text/html": [
       "<table><tr style=\"border-bottom: 1px solid\"></tr></table>"
      ],
      "text/plain": [
       "<IPython.core.display.HTML object>"
      ]
     },
     "execution_count": 9,
     "metadata": {},
     "output_type": "execute_result"
    }
   ],
   "source": [
    "%%sparksql\n",
    "CREATE DATABASE IF NOT EXISTS gold\n",
    "LOCATION 's3a://warehouse/gold/';"
   ]
  },
  {
   "cell_type": "code",
   "execution_count": 10,
   "id": "4c153f15-0c71-4122-9513-377b27ffaaef",
   "metadata": {},
   "outputs": [],
   "source": [
    "df = spark.read.format(\"parquet\").load(\"./data/STA_TIPO_CAMBIO/\")"
   ]
  },
  {
   "cell_type": "code",
   "execution_count": 11,
   "id": "18040778-5756-460d-bce0-45ba75592925",
   "metadata": {},
   "outputs": [
    {
     "name": "stdout",
     "output_type": "stream",
     "text": [
      "+----------+----------+\n",
      "|Fecha     |TipoCambio|\n",
      "+----------+----------+\n",
      "|1990-01-01|3.61      |\n",
      "|1990-01-02|3.45      |\n",
      "|1990-01-03|3.21      |\n",
      "|1990-01-04|3.62      |\n",
      "|1990-01-05|3.72      |\n",
      "|1990-01-06|3.81      |\n",
      "|1990-01-07|3.97      |\n",
      "|1990-01-08|3.84      |\n",
      "|1990-01-09|3.63      |\n",
      "|1990-01-10|3.81      |\n",
      "+----------+----------+\n",
      "only showing top 10 rows\n",
      "\n"
     ]
    }
   ],
   "source": [
    "df.show(10,False)"
   ]
  },
  {
   "cell_type": "code",
   "execution_count": 12,
   "id": "46fce067-bbe4-417f-b1c4-ef18fb2aa5ed",
   "metadata": {},
   "outputs": [],
   "source": [
    "df.write.format(\"parquet\").saveAsTable(\"bronze.STA_TIPO_CAMBIO\")"
   ]
  },
  {
   "cell_type": "code",
   "execution_count": 13,
   "id": "ece73cff-a082-4d70-9c77-5a15a23fb9d4",
   "metadata": {},
   "outputs": [],
   "source": [
    "df.write.format(\"delta\").saveAsTable(\"silver.STA_TIPO_CAMBIO\")"
   ]
  },
  {
   "cell_type": "code",
   "execution_count": null,
   "id": "9d7139a1-de6d-4f2f-8749-5f04c4a53a59",
   "metadata": {},
   "outputs": [],
   "source": []
  }
 ],
 "metadata": {
  "kernelspec": {
   "display_name": "Python 3 (ipykernel)",
   "language": "python",
   "name": "python3"
  },
  "language_info": {
   "codemirror_mode": {
    "name": "ipython",
    "version": 3
   },
   "file_extension": ".py",
   "mimetype": "text/x-python",
   "name": "python",
   "nbconvert_exporter": "python",
   "pygments_lexer": "ipython3",
   "version": "3.11.8"
  }
 },
 "nbformat": 4,
 "nbformat_minor": 5
}
