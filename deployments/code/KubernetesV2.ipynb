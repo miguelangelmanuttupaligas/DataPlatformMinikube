{
 "cells": [
  {
   "cell_type": "code",
   "execution_count": 1,
   "id": "8f3e2ad4-fbdc-4c03-a117-120ef1d397a2",
   "metadata": {},
   "outputs": [],
   "source": [
    "%load_ext sparksql_magic"
   ]
  },
  {
   "cell_type": "code",
   "execution_count": 2,
   "id": "b12e35a9-f305-4d29-832b-69427576dd0f",
   "metadata": {},
   "outputs": [],
   "source": [
    "import os\n",
    "import socket\n",
    "from pyspark import SparkConf, SparkContext\n",
    "from pyspark.sql import SparkSession"
   ]
  },
  {
   "cell_type": "code",
   "execution_count": 3,
   "id": "063504dd-e730-4e29-a41d-34dd0395abb3",
   "metadata": {},
   "outputs": [],
   "source": [
    "# Pyspark config\n",
    "os.environ['PYSPARK_PYTHON'] = 'python3.11.8'\n",
    "os.environ['PYSPARK_DRIVER_PYTHON'] = 'python3.11.8'\n",
    "# Create Spark config for our Kubernetes based cluster manager\n",
    "SPARK_PORT_MAX_RETRIES = 2\n",
    "os.environ[\"JAVA_HOME\"] = \"/usr/lib/jvm/java-17-openjdk-amd64\""
   ]
  },
  {
   "cell_type": "code",
   "execution_count": 5,
   "id": "71ac03ea-512e-442d-8506-310d64c9a4fe",
   "metadata": {},
   "outputs": [
    {
     "data": {
      "text/plain": [
       "<pyspark.conf.SparkConf at 0x7efd4963ab50>"
      ]
     },
     "execution_count": 5,
     "metadata": {},
     "output_type": "execute_result"
    }
   ],
   "source": [
    "conf = SparkConf().setAppName(\"spark-app-miguel-20250701\")\n",
    "conf.setMaster(\"k8s://https://kubernetes.default:443\")\n",
    "conf.set(\"spark.submit.deployMode\", \"client\")\n",
    "conf.set(\"spark.kubernetes.namespace\", os.getenv(\"POD_NAMESPACE\"))\n",
    "conf.set(\"spark.kubernetes.container.image\", \"miguelmanuttupa/pyspark-k8s-python3.11:3.5.0\")\n",
    "conf.set(\"spark.kubernetes.container.image.pullPolicy\",\"IfNotPresent\")\n",
    "conf.set(\"spark.kubernetes.pyspark.pythonVersion\", \"3\")\n",
    "conf.set(\"spark.kubernetes.authenticate.driver.serviceAccountName\", os.getenv(\"SERVICE_ACCOUNT_NAME\"))\n",
    "conf.set(\"spark.driver.host\", socket.gethostbyname(socket.gethostname()))\n",
    "conf.set(\"spark.kubernetes.executor.deleteOnTermination\",\"true\")\n",
    "# conf.set(\"spark.driver.port\", \"2222\")\n",
    "# conf.set(\"spark.blockManager.port\", \"7777\")\n",
    "conf.set(\"spark.port.maxRetries\", \"2\")\n",
    "# RESOURCES\n",
    "conf.set(\"spark.executor.instances\", \"1\")\n",
    "conf.set(\"spark.executor.cores\", \"2\")\n",
    "conf.set(\"spark.executor.memory\", \"4G\")\n",
    "# MINIO / S3\n",
    "conf.set(\"spark.hadoop.fs.s3a.impl\", \"org.apache.hadoop.fs.s3a.S3AFileSystem\")\n",
    "conf.set(\"spark.hadoop.fs.s3a.endpoint\", os.getenv(\"S3_ENDPOINT_URL\"))\n",
    "conf.set(\"spark.hadoop.fs.s3a.path.style.access\", \"true\")\n",
    "conf.set(\"spark.hadoop.fs.s3a.access.key\", os.getenv(\"ACCESS_KEY\"))\n",
    "conf.set(\"spark.hadoop.fs.s3a.secret.key\", os.getenv(\"SECRET_KEY\"))\n",
    "# DELTA LAKE\n",
    "conf.set(\"spark.sql.extensions\", \"io.delta.sql.DeltaSparkSessionExtension\")\n",
    "conf.set(\"spark.sql.catalog.spark_catalog\", \"org.apache.spark.sql.delta.catalog.DeltaCatalog\")\n",
    "# HIVE\n",
    "conf.set(\"spark.sql.catalogImplementation\", \"hive\")\n",
    "conf.set(\"spark.sql.warehouse.dir\", os.getenv(\"WAREHOUSE_DIR\"))\n",
    "conf.set(\"hive.metastore.uris\", os.getenv(\"METASTORE_URI\"))\n",
    "conf.set(\"spark.databricks.delta.commitInfo.userMetadata\", os.getenv(\"NB_USER\"))"
   ]
  },
  {
   "cell_type": "code",
   "execution_count": 6,
   "id": "2404a88b-4663-4126-8904-6f2c84606af2",
   "metadata": {},
   "outputs": [],
   "source": [
    "sc = SparkContext.getOrCreate(conf=conf)"
   ]
  },
  {
   "cell_type": "code",
   "execution_count": 7,
   "id": "85988a15-4f69-41ca-a695-029d6aedd80d",
   "metadata": {},
   "outputs": [],
   "source": [
    "spark = SparkSession(sc)"
   ]
  },
  {
   "cell_type": "code",
   "execution_count": 8,
   "id": "c5aa2aa2-b3cf-4099-b920-8b83c3d75397",
   "metadata": {},
   "outputs": [
    {
     "data": {
      "text/html": [
       "<table><tr style=\"border-bottom: 1px solid\"><td style=\"font-weight: bold\">namespace</td></tr><tr><td>bronze</td></tr><tr><td>default</td></tr></table>"
      ],
      "text/plain": [
       "<IPython.core.display.HTML object>"
      ]
     },
     "execution_count": 8,
     "metadata": {},
     "output_type": "execute_result"
    }
   ],
   "source": [
    "%%sparksql\n",
    "SHOW DATABASES;"
   ]
  },
  {
   "cell_type": "code",
   "execution_count": 9,
   "id": "a850b567-c20a-4a2d-930a-fb45b607cbfb",
   "metadata": {},
   "outputs": [],
   "source": [
    "df = spark.read.format(\"parquet\").load(\"s3a://lhchdev/STA_TIPO_CAMBIO\")"
   ]
  },
  {
   "cell_type": "code",
   "execution_count": 10,
   "id": "df4cbdb7-88d6-41e1-a73f-7f156ae6dac1",
   "metadata": {},
   "outputs": [
    {
     "data": {
      "text/plain": [
       "12777"
      ]
     },
     "execution_count": 10,
     "metadata": {},
     "output_type": "execute_result"
    }
   ],
   "source": [
    "df.cache().count()"
   ]
  },
  {
   "cell_type": "code",
   "execution_count": 11,
   "id": "fae7f416-7b1a-43ec-811d-f07a6172fb64",
   "metadata": {},
   "outputs": [],
   "source": [
    "df.write.format(\"delta\").mode(\"append\").saveAsTable(\"bronze.STA_TIPO_CAMBIO\")"
   ]
  },
  {
   "cell_type": "code",
   "execution_count": 12,
   "id": "f02c93d0-2e0d-4dcd-9236-7a46daaf30a2",
   "metadata": {},
   "outputs": [
    {
     "data": {
      "text/html": [
       "<table><tr style=\"border-bottom: 1px solid\"><td style=\"font-weight: bold\">version</td><td style=\"font-weight: bold\">timestamp</td><td style=\"font-weight: bold\">userId</td><td style=\"font-weight: bold\">userName</td><td style=\"font-weight: bold\">operation</td><td style=\"font-weight: bold\">operationParameters</td><td style=\"font-weight: bold\">job</td><td style=\"font-weight: bold\">notebook</td><td style=\"font-weight: bold\">clusterId</td><td style=\"font-weight: bold\">readVersion</td><td style=\"font-weight: bold\">isolationLevel</td><td style=\"font-weight: bold\">isBlindAppend</td><td style=\"font-weight: bold\">operationMetrics</td><td style=\"font-weight: bold\">userMetadata</td><td style=\"font-weight: bold\">engineInfo</td></tr><tr><td>1</td><td>2025-08-24 05:56:41</td><td>null</td><td>null</td><td>WRITE</td><td>{&#x27;mode&#x27;: &#x27;Append&#x27;, &#x27;partitionBy&#x27;: &#x27;[]&#x27;}</td><td>null</td><td>null</td><td>null</td><td>0</td><td>Serializable</td><td>True</td><td>{&#x27;numOutputRows&#x27;: &#x27;12777&#x27;, &#x27;numOutputBytes&#x27;: &#x27;63488&#x27;, &#x27;numFiles&#x27;: &#x27;1&#x27;}</td><td>usuario1</td><td>Apache-Spark/3.5.0 Delta-Lake/3.2.0</td></tr><tr><td>0</td><td>2025-08-24 05:51:24</td><td>null</td><td>null</td><td>CREATE OR REPLACE TABLE AS SELECT</td><td>{&#x27;partitionBy&#x27;: &#x27;[]&#x27;, &#x27;description&#x27;: None, &#x27;properties&#x27;: &#x27;{}&#x27;, &#x27;clusterBy&#x27;: &#x27;[]&#x27;, &#x27;isManaged&#x27;: &#x27;true&#x27;}</td><td>null</td><td>null</td><td>null</td><td>null</td><td>Serializable</td><td>False</td><td>{&#x27;numOutputRows&#x27;: &#x27;12777&#x27;, &#x27;numOutputBytes&#x27;: &#x27;63488&#x27;, &#x27;numFiles&#x27;: &#x27;1&#x27;}</td><td>null</td><td>Apache-Spark/3.5.0 Delta-Lake/3.2.0</td></tr></table>"
      ],
      "text/plain": [
       "<IPython.core.display.HTML object>"
      ]
     },
     "execution_count": 12,
     "metadata": {},
     "output_type": "execute_result"
    }
   ],
   "source": [
    "%%sparksql\n",
    "DESCRIBE HISTORY bronze.sta_tipo_cambio"
   ]
  },
  {
   "cell_type": "code",
   "execution_count": null,
   "id": "72402991-6cdc-4669-b312-76c15130f388",
   "metadata": {},
   "outputs": [],
   "source": []
  }
 ],
 "metadata": {
  "kernelspec": {
   "display_name": "Python 3 (ipykernel)",
   "language": "python",
   "name": "python3"
  },
  "language_info": {
   "codemirror_mode": {
    "name": "ipython",
    "version": 3
   },
   "file_extension": ".py",
   "mimetype": "text/x-python",
   "name": "python",
   "nbconvert_exporter": "python",
   "pygments_lexer": "ipython3",
   "version": "3.11.8"
  }
 },
 "nbformat": 4,
 "nbformat_minor": 5
}
