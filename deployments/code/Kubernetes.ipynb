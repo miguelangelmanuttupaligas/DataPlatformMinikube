{
 "cells": [
  {
   "cell_type": "code",
   "execution_count": 1,
   "id": "cf7949c0-9169-4892-a407-6f9ea30fea1f",
   "metadata": {
    "scrolled": true
   },
   "outputs": [],
   "source": [
    "%load_ext sparksql_magic"
   ]
  },
  {
   "cell_type": "code",
   "execution_count": 2,
   "id": "161d5675-8aff-4373-b93e-7adec65d3d8c",
   "metadata": {},
   "outputs": [],
   "source": [
    "import os\n",
    "import socket\n",
    "from pyspark import SparkConf, SparkContext\n",
    "from pyspark.sql import SparkSession"
   ]
  },
  {
   "cell_type": "code",
   "execution_count": 3,
   "id": "b1e0959b-98cf-4462-9602-7dce603bfaed",
   "metadata": {},
   "outputs": [],
   "source": [
    "# Pyspark config\n",
    "os.environ['PYSPARK_PYTHON'] = 'python3.11.8'\n",
    "os.environ['PYSPARK_DRIVER_PYTHON'] = 'python3.11.8'\n",
    "# Create Spark config for our Kubernetes based cluster manager\n",
    "SPARK_PORT_MAX_RETRIES = 2\n",
    "os.environ[\"JAVA_HOME\"] = \"/usr/lib/jvm/java-17-openjdk-amd64\""
   ]
  },
  {
   "cell_type": "code",
   "execution_count": null,
   "id": "debdb4ca-ccf8-49ba-94c0-5b542ca7d8da",
   "metadata": {},
   "outputs": [
    {
     "data": {
      "text/plain": [
       "<pyspark.conf.SparkConf at 0x7f491c628090>"
      ]
     },
     "execution_count": 4,
     "metadata": {},
     "output_type": "execute_result"
    }
   ],
   "source": [
    "conf = SparkConf().setAppName(\"spark-app-miguel-20250701\")\n",
    "conf.setMaster(\"k8s://https://kubernetes.default:443\")\n",
    "conf.set(\"spark.submit.deployMode\", \"client\")\n",
    "conf.set(\"spark.kubernetes.namespace\", os.getenv(\"POD_NAMESPACE\",default=\"jupyterhub\"))\n",
    "conf.set(\"spark.kubernetes.container.image\", \"miguelmanuttupa/pyspark-k8s-python3.11:3.5.0\")\n",
    "conf.set(\"spark.kubernetes.container.image.pullPolicy\",\"IfNotPresent\")\n",
    "conf.set(\"spark.kubernetes.pyspark.pythonVersion\", \"3\")\n",
    "conf.set(\"spark.kubernetes.authenticate.driver.serviceAccountName\", \"spark-sa-jupyterhub\")\n",
    "conf.set(\"spark.driver.host\", socket.gethostbyname(socket.gethostname()))\n",
    "conf.set(\"spark.kubernetes.executor.deleteOnTermination\",\"true\")\n",
    "# conf.set(\"spark.driver.port\", \"2222\")\n",
    "# conf.set(\"spark.blockManager.port\", \"7777\")\n",
    "conf.set(\"spark.port.maxRetries\", \"2\")\n",
    "# RESOURCES\n",
    "conf.set(\"spark.executor.instances\", \"1\")\n",
    "conf.set(\"spark.executor.cores\", \"2\")\n",
    "conf.set(\"spark.executor.memory\", \"4G\")\n",
    "# MINIO / S3\n",
    "conf.set(\"spark.hadoop.fs.s3a.impl\", \"org.apache.hadoop.fs.s3a.S3AFileSystem\")\n",
    "conf.set(\"spark.hadoop.fs.s3a.endpoint\", \"http://minio.data-services.svc.cluster.local:9000\")\n",
    "conf.set(\"spark.hadoop.fs.s3a.path.style.access\", \"true\")\n",
    "conf.set(\"spark.hadoop.fs.s3a.access.key\", \"spark-key\")\n",
    "conf.set(\"spark.hadoop.fs.s3a.secret.key\", \"spark-secret\")\n",
    "# DELTA LAKE\n",
    "conf.set(\"spark.sql.extensions\", \"io.delta.sql.DeltaSparkSessionExtension\")\n",
    "conf.set(\"spark.sql.catalog.spark_catalog\", \"org.apache.spark.sql.delta.catalog.DeltaCatalog\")\n",
    "# HIVE\n",
    "conf.set(\"spark.sql.catalogImplementation\", \"hive\")\n",
    "conf.set(\"spark.sql.warehouse.dir\", \"s3a://warehouse/\")\n",
    "conf.set(\"hive.metastore.uris\", \"thrift://hive-metastore.data-services.svc.cluster.local:9083\")"
   ]
  },
  {
   "cell_type": "code",
   "execution_count": 5,
   "id": "a097a0b4-a642-41f3-83d8-c5043fd53819",
   "metadata": {
    "scrolled": true
   },
   "outputs": [],
   "source": [
    "sc = SparkContext.getOrCreate(conf=conf)"
   ]
  },
  {
   "cell_type": "code",
   "execution_count": 6,
   "id": "a56d981a-6a78-4e77-99c2-662d985f0923",
   "metadata": {},
   "outputs": [],
   "source": [
    "spark = SparkSession(sc)"
   ]
  },
  {
   "cell_type": "code",
   "execution_count": 7,
   "id": "f5cc2b77-c4e3-4e93-add7-37c30d5550da",
   "metadata": {},
   "outputs": [],
   "source": [
    "df = spark.read.format(\"parquet\").load(\"s3a://landing/STA_TIPO_CAMBIO\")"
   ]
  },
  {
   "cell_type": "code",
   "execution_count": 8,
   "id": "3b78641c-2ee9-44da-a398-31d09a57541d",
   "metadata": {},
   "outputs": [
    {
     "data": {
      "text/plain": [
       "12777"
      ]
     },
     "execution_count": 8,
     "metadata": {},
     "output_type": "execute_result"
    }
   ],
   "source": [
    "df.cache().count()"
   ]
  },
  {
   "cell_type": "code",
   "execution_count": 9,
   "id": "a4738331-f3aa-40da-9980-0ba5359f15d2",
   "metadata": {},
   "outputs": [
    {
     "data": {
      "text/html": [
       "<table><tr style=\"border-bottom: 1px solid\"><td style=\"font-weight: bold\">namespace</td></tr><tr><td>default</td></tr></table>"
      ],
      "text/plain": [
       "<IPython.core.display.HTML object>"
      ]
     },
     "execution_count": 9,
     "metadata": {},
     "output_type": "execute_result"
    }
   ],
   "source": [
    "%%sparksql\n",
    "SHOW DATABASES;"
   ]
  },
  {
   "cell_type": "code",
   "execution_count": 10,
   "id": "5c4b5722-12a9-49a0-b8c8-50d24d1fb5a8",
   "metadata": {},
   "outputs": [],
   "source": [
    "df.write.mode(\"overwrite\").saveAsTable(\"default.STA_TIPO_CAMBIO\")"
   ]
  },
  {
   "cell_type": "code",
   "execution_count": 11,
   "id": "21a64b60-e83a-41b8-942d-75173625d16c",
   "metadata": {},
   "outputs": [],
   "source": [
    "df.write.format(\"delta\").mode(\"overwrite\").saveAsTable(\"default.ANA_TIPO_CAMBIO\")"
   ]
  },
  {
   "cell_type": "code",
   "execution_count": 17,
   "id": "e66d1576-e13c-4cd4-860d-5af5f9f80c2a",
   "metadata": {},
   "outputs": [],
   "source": [
    "spark.stop()"
   ]
  },
  {
   "cell_type": "code",
   "execution_count": null,
   "id": "582a8a44-82f6-47b7-b1e9-5e221d8e661e",
   "metadata": {},
   "outputs": [],
   "source": []
  }
 ],
 "metadata": {
  "kernelspec": {
   "display_name": "Python 3 (ipykernel)",
   "language": "python",
   "name": "python3"
  },
  "language_info": {
   "codemirror_mode": {
    "name": "ipython",
    "version": 3
   },
   "file_extension": ".py",
   "mimetype": "text/x-python",
   "name": "python",
   "nbconvert_exporter": "python",
   "pygments_lexer": "ipython3",
   "version": "3.11.8"
  }
 },
 "nbformat": 4,
 "nbformat_minor": 5
}
